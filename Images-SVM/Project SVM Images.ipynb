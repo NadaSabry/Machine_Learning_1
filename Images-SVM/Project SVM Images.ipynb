{
 "cells": [
  {
   "cell_type": "code",
   "execution_count": 1,
   "id": "ca6b2791",
   "metadata": {},
   "outputs": [],
   "source": [
    "import os\n",
    "import random\n",
    "import cv2\n",
    "import imutils\n",
    "import numpy as np\n",
    "import pickle\n",
    "from skimage.io import imread, imshow\n",
    "from sklearn import preprocessing\n",
    "from sklearn.model_selection import train_test_split\n",
    "from sklearn.metrics import roc_curve, auc, roc_auc_score\n",
    "from yellowbrick.model_selection import learning_curve\n",
    "import seaborn as sb\n",
    "import tensorflow as tf\n",
    "import matplotlib.pyplot as plt\n",
    "import preprocessing as pp\n",
    "from sklearn import svm\n",
    "from sklearn import metrics\n",
    "from sklearn.preprocessing import LabelEncoder\n",
    "from sklearn.model_selection import train_test_split\n",
    "\n",
    "def save_data(data, path):\n",
    "    pick_in = open(path, 'wb')\n",
    "    pickle.dump(data, pick_in)\n",
    "    pick_in.close()\n",
    "    \n",
    "\n",
    "def load_data(path):\n",
    "    pick_in = open(path, 'rb')\n",
    "    data = pickle.load(pick_in)\n",
    "    pick_in.close()\n",
    "    return data\n",
    "\n",
    "        \n",
    "def save_image(directory, img):\n",
    "    cv2.imwrite(directory, img)\n",
    "\n",
    "\n",
    "def convert_to_gray(img):\n",
    "    return cv2.cvtColor(img, cv2.COLOR_RGB2GRAY)\n",
    "\n",
    "\n",
    "def edge_detecting(img):\n",
    "    denoised_image = cv2.Canny(img, img.shape[0], img.shape[1])\n",
    "    return denoised_image.flatten()\n",
    "\n",
    "\n",
    "def rotate(img):\n",
    "    '''angle is going anti-clockwise direction'''\n",
    "    rand_angle = random.uniform(-15.0, 15.0)\n",
    "    rotate_img = imutils.rotate(img, rand_angle)\n",
    "    return rotate_img\n",
    "\n",
    "\n",
    "def denoising(img):\n",
    "    '''the higher h will be , the more noise will be removed as well as\n",
    "    some details be removed from the image so don't make it so high!!'''\n",
    "    converted_img = cv2.cvtColor(img, cv2.COLOR_GRAY2BGR)\n",
    "    try:\n",
    "        cv2.fastNlMeansDenoisingColored(converted_img, None, 10, 10, 7, 21)\n",
    "    except:\n",
    "        print(\"couldn't make edge detecting..\")\n",
    "    return converted_img\n",
    "\n",
    "def plot_confusion_matrix(predicted_dataset, y_test):\n",
    "    y_predicted_labels = predicted_dataset\n",
    "    confusion_matrix = tf.math.confusion_matrix(labels=y_test,\n",
    "                                                predictions=y_predicted_labels)\n",
    "    plt.figure(figsize=(10, 7))\n",
    "    sb.heatmap(confusion_matrix, annot=True, fmt='d')\n",
    "    plt.xlabel('Predicted')\n",
    "    plt.ylabel('Truth')\n",
    "    plt.show()\n",
    "    \n",
    "def show_roc_curve(prediction, Y_test):\n",
    "    fpr = dict()\n",
    "    tpr = dict()\n",
    "    roc_auc = dict()\n",
    "    for i in range(2):\n",
    "        fpr[i], tpr[i], _ = roc_curve(Y_test, prediction)\n",
    "        roc_auc[i] = auc(fpr[i], tpr[i])\n",
    "    plt.figure()\n",
    "    plt.plot(fpr[1], tpr[1])\n",
    "    plt.plot([0, 1], [0, 1], color=\"navy\", lw=2, linestyle=\"--\")\n",
    "    plt.xlim([0.0, 1.0])\n",
    "    plt.ylim([0.0, 1.05])\n",
    "    plt.xlabel('False Positive')\n",
    "    plt.ylabel('True Positive')\n",
    "    plt.title('Receiver operating characteristic')\n",
    "    plt.show()\n",
    "    \n",
    "def get_rgb_features(image):\n",
    "    features = np.zeros((image.shape[0], image.shape[1]))\n",
    "    for i in range(0, image.shape[0]):\n",
    "        for j in range(0, image.shape[1]):\n",
    "            features[i][j] = (int(image[i][j][0]) + int(image[i][j][1]) + int(image[i][j][0])) / 3\n",
    "    return features.flatten()\n",
    "    "
   ]
  },
  {
   "cell_type": "markdown",
   "id": "8e70182d",
   "metadata": {},
   "source": [
    "# Pre-processing Images"
   ]
  },
  {
   "cell_type": "code",
   "execution_count": 2,
   "id": "b7d5dde3",
   "metadata": {},
   "outputs": [
    {
     "name": "stdout",
     "output_type": "stream",
     "text": [
      "Processing Labels...\n",
      "['cat', 'rabbit']\n",
      "Labels Done!\n"
     ]
    }
   ],
   "source": [
    "print(\"Processing Labels...\")\n",
    "labels = os.listdir('Images/train/')\n",
    "print(labels)\n",
    "print(\"Labels Done!\")"
   ]
  },
  {
   "cell_type": "code",
   "execution_count": 3,
   "id": "2bcbf4c8",
   "metadata": {},
   "outputs": [],
   "source": [
    "def get_images(path):\n",
    "    # Get images and edit them\n",
    "    x_data = []\n",
    "    y_data = []\n",
    "\n",
    "    print(\"Processing Images...\")\n",
    "    for label in labels:\n",
    "        cnt = 0\n",
    "        main_path = path + label\n",
    "        images_paths = os.listdir(main_path)\n",
    "        for image_path in images_paths:\n",
    "            cnt = cnt + 1\n",
    "            if cnt % 5 == 0:\n",
    "                print(cnt, \"/\", len(images_paths), \"Loading\", image_path, \"...\")\n",
    "            image = imread(main_path + '/' + image_path)                \n",
    "            image_resized = image\n",
    "            # image_resized = rotate(image_resized)\n",
    "            image_resized = cv2.resize(image, (150, 150))\n",
    "            # image_resized = convert_to_gray(image_resized)\n",
    "            # image_resized = edge_detecting(image_resized)\n",
    "            # image_resized = denoising(image_resized)\n",
    "            image_resized = get_rgb_features(image_resized)\n",
    "            x_data.append(np.array(image_resized))\n",
    "            y_data.append(label)\n",
    "                \n",
    "    # Normalizing images\n",
    "    x_data = np.array(x_data, dtype=\"object\")\n",
    "    y_data = np.array(y_data, dtype=\"object\")\n",
    "\n",
    "    # Encoding labels\n",
    "    y_encoded = preprocessing.LabelEncoder().fit_transform(y_data)\n",
    "\n",
    "    # Shuffling Datasets\n",
    "    rand_structure = np.arange(x_data.shape[0])\n",
    "    random.seed(22)\n",
    "    random.shuffle(rand_structure)\n",
    "    X_rand_data = x_data[rand_structure]\n",
    "    Y_rand_data = y_encoded[rand_structure]\n",
    "    print(\"Images Done!\")\n",
    "    return X_rand_data, Y_rand_data"
   ]
  },
  {
   "cell_type": "code",
   "execution_count": 4,
   "id": "7e2bf0b4",
   "metadata": {
    "scrolled": true
   },
   "outputs": [
    {
     "name": "stdout",
     "output_type": "stream",
     "text": [
      "Processing Images...\n",
      "5 / 800 Loading cat.102.jpg ...\n",
      "10 / 800 Loading cat.107.jpg ...\n",
      "15 / 800 Loading cat.111.jpg ...\n",
      "20 / 800 Loading cat.116.jpg ...\n",
      "25 / 800 Loading cat.120.jpg ...\n",
      "30 / 800 Loading cat.125.jpg ...\n",
      "35 / 800 Loading cat.13.jpg ...\n",
      "40 / 800 Loading cat.134.jpg ...\n",
      "45 / 800 Loading cat.139.jpg ...\n",
      "50 / 800 Loading cat.143.jpg ...\n",
      "55 / 800 Loading cat.148.jpg ...\n",
      "60 / 800 Loading cat.152.jpg ...\n",
      "65 / 800 Loading cat.157.jpg ...\n",
      "70 / 800 Loading cat.161.jpg ...\n",
      "75 / 800 Loading cat.166.jpg ...\n",
      "80 / 800 Loading cat.170.jpg ...\n",
      "85 / 800 Loading cat.175.jpg ...\n",
      "90 / 800 Loading cat.18.jpg ...\n",
      "95 / 800 Loading cat.184.jpg ...\n",
      "100 / 800 Loading cat.189.jpg ...\n",
      "105 / 800 Loading cat.193.jpg ...\n",
      "110 / 800 Loading cat.198.jpg ...\n",
      "115 / 800 Loading cat.201.jpg ...\n",
      "120 / 800 Loading cat.206.jpg ...\n",
      "125 / 800 Loading cat.210.jpg ...\n",
      "130 / 800 Loading cat.215.jpg ...\n",
      "135 / 800 Loading cat.22.jpg ...\n",
      "140 / 800 Loading cat.224.jpg ...\n",
      "145 / 800 Loading cat.229.jpg ...\n",
      "150 / 800 Loading cat.233.jpg ...\n",
      "155 / 800 Loading cat.238.jpg ...\n",
      "160 / 800 Loading cat.242.jpg ...\n",
      "165 / 800 Loading cat.247.jpg ...\n",
      "170 / 800 Loading cat.251.jpg ...\n",
      "175 / 800 Loading cat.256.jpg ...\n",
      "180 / 800 Loading cat.260.jpg ...\n",
      "185 / 800 Loading cat.265.jpg ...\n",
      "190 / 800 Loading cat.27.jpg ...\n",
      "195 / 800 Loading cat.274.jpg ...\n",
      "200 / 800 Loading cat.279.jpg ...\n",
      "205 / 800 Loading cat.283.jpg ...\n",
      "210 / 800 Loading cat.288.jpg ...\n",
      "215 / 800 Loading cat.292.jpg ...\n",
      "220 / 800 Loading cat.297.jpg ...\n",
      "225 / 800 Loading cat.300.jpg ...\n",
      "230 / 800 Loading cat.305.jpg ...\n",
      "235 / 800 Loading cat.31.jpg ...\n",
      "240 / 800 Loading cat.314.jpg ...\n",
      "245 / 800 Loading cat.319.jpg ...\n",
      "250 / 800 Loading cat.323.jpg ...\n",
      "255 / 800 Loading cat.328.jpg ...\n",
      "260 / 800 Loading cat.332.jpg ...\n",
      "265 / 800 Loading cat.337.jpg ...\n",
      "270 / 800 Loading cat.341.jpg ...\n",
      "275 / 800 Loading cat.346.jpg ...\n",
      "280 / 800 Loading cat.350.jpg ...\n",
      "285 / 800 Loading cat.355.jpg ...\n",
      "290 / 800 Loading cat.36.jpg ...\n",
      "295 / 800 Loading cat.364.jpg ...\n",
      "300 / 800 Loading cat.369.jpg ...\n",
      "305 / 800 Loading cat.373.jpg ...\n",
      "310 / 800 Loading cat.378.jpg ...\n",
      "315 / 800 Loading cat.382.jpg ...\n",
      "320 / 800 Loading cat.387.jpg ...\n",
      "325 / 800 Loading cat.391.jpg ...\n",
      "330 / 800 Loading cat.396.jpg ...\n",
      "335 / 800 Loading cat.40.jpg ...\n",
      "340 / 800 Loading cat.404.jpg ...\n",
      "345 / 800 Loading cat.409.jpg ...\n",
      "350 / 800 Loading cat.413.jpg ...\n",
      "355 / 800 Loading cat.418.jpg ...\n",
      "360 / 800 Loading cat.422.jpg ...\n",
      "365 / 800 Loading cat.427.jpg ...\n",
      "370 / 800 Loading cat.431.jpg ...\n",
      "375 / 800 Loading cat.436.jpg ...\n",
      "380 / 800 Loading cat.440.jpg ...\n",
      "385 / 800 Loading cat.445.jpg ...\n",
      "390 / 800 Loading cat.45.jpg ...\n",
      "395 / 800 Loading cat.454.jpg ...\n",
      "400 / 800 Loading cat.459.jpg ...\n",
      "405 / 800 Loading cat.463.jpg ...\n",
      "410 / 800 Loading cat.468.jpg ...\n",
      "415 / 800 Loading cat.472.jpg ...\n",
      "420 / 800 Loading cat.477.jpg ...\n",
      "425 / 800 Loading cat.481.jpg ...\n",
      "430 / 800 Loading cat.486.jpg ...\n",
      "435 / 800 Loading cat.490.jpg ...\n",
      "440 / 800 Loading cat.495.jpg ...\n",
      "445 / 800 Loading cat.5.jpg ...\n",
      "450 / 800 Loading cat.503.jpg ...\n",
      "455 / 800 Loading cat.508.jpg ...\n",
      "460 / 800 Loading cat.512.jpg ...\n",
      "465 / 800 Loading cat.517.jpg ...\n",
      "470 / 800 Loading cat.521.jpg ...\n",
      "475 / 800 Loading cat.526.jpg ...\n",
      "480 / 800 Loading cat.530.jpg ...\n",
      "485 / 800 Loading cat.535.jpg ...\n",
      "490 / 800 Loading cat.54.jpg ...\n",
      "495 / 800 Loading cat.544.jpg ...\n",
      "500 / 800 Loading cat.549.jpg ...\n",
      "505 / 800 Loading cat.553.jpg ...\n",
      "510 / 800 Loading cat.558.jpg ...\n",
      "515 / 800 Loading cat.562.jpg ...\n",
      "520 / 800 Loading cat.567.jpg ...\n",
      "525 / 800 Loading cat.571.jpg ...\n",
      "530 / 800 Loading cat.576.jpg ...\n",
      "535 / 800 Loading cat.580.jpg ...\n",
      "540 / 800 Loading cat.585.jpg ...\n",
      "545 / 800 Loading cat.59.jpg ...\n",
      "550 / 800 Loading cat.594.jpg ...\n",
      "555 / 800 Loading cat.599.jpg ...\n",
      "560 / 800 Loading cat.602.jpg ...\n",
      "565 / 800 Loading cat.607.jpg ...\n",
      "570 / 800 Loading cat.611.jpg ...\n",
      "575 / 800 Loading cat.616.jpg ...\n",
      "580 / 800 Loading cat.620.jpg ...\n",
      "585 / 800 Loading cat.625.jpg ...\n",
      "590 / 800 Loading cat.63.jpg ...\n",
      "595 / 800 Loading cat.634.jpg ...\n",
      "600 / 800 Loading cat.639.jpg ...\n",
      "605 / 800 Loading cat.643.jpg ...\n",
      "610 / 800 Loading cat.648.jpg ...\n",
      "615 / 800 Loading cat.652.jpg ...\n",
      "620 / 800 Loading cat.657.jpg ...\n",
      "625 / 800 Loading cat.661.jpg ...\n",
      "630 / 800 Loading cat.666.jpg ...\n",
      "635 / 800 Loading cat.670.jpg ...\n",
      "640 / 800 Loading cat.675.jpg ...\n",
      "645 / 800 Loading cat.68.jpg ...\n",
      "650 / 800 Loading cat.684.jpg ...\n",
      "655 / 800 Loading cat.689.jpg ...\n",
      "660 / 800 Loading cat.693.jpg ...\n",
      "665 / 800 Loading cat.698.jpg ...\n",
      "670 / 800 Loading cat.701.jpg ...\n",
      "675 / 800 Loading cat.706.jpg ...\n",
      "680 / 800 Loading cat.710.jpg ...\n",
      "685 / 800 Loading cat.715.jpg ...\n",
      "690 / 800 Loading cat.72.jpg ...\n",
      "695 / 800 Loading cat.724.jpg ...\n",
      "700 / 800 Loading cat.729.jpg ...\n",
      "705 / 800 Loading cat.733.jpg ...\n",
      "710 / 800 Loading cat.738.jpg ...\n",
      "715 / 800 Loading cat.742.jpg ...\n",
      "720 / 800 Loading cat.747.jpg ...\n",
      "725 / 800 Loading cat.751.jpg ...\n",
      "730 / 800 Loading cat.756.jpg ...\n",
      "735 / 800 Loading cat.760.jpg ...\n",
      "740 / 800 Loading cat.765.jpg ...\n",
      "745 / 800 Loading cat.77.jpg ...\n",
      "750 / 800 Loading cat.774.jpg ...\n",
      "755 / 800 Loading cat.779.jpg ...\n",
      "760 / 800 Loading cat.783.jpg ...\n",
      "765 / 800 Loading cat.788.jpg ...\n",
      "770 / 800 Loading cat.792.jpg ...\n",
      "775 / 800 Loading cat.797.jpg ...\n",
      "780 / 800 Loading cat.800.jpg ...\n",
      "785 / 800 Loading cat.85.jpg ...\n",
      "790 / 800 Loading cat.9.jpg ...\n",
      "795 / 800 Loading cat.94.jpg ...\n",
      "800 / 800 Loading cat.99.jpg ...\n",
      "5 / 800 Loading rabbit.102.jpg ...\n",
      "10 / 800 Loading rabbit.107.jpg ...\n",
      "15 / 800 Loading rabbit.111.jpg ...\n",
      "20 / 800 Loading rabbit.116.jpg ...\n",
      "25 / 800 Loading rabbit.120.jpg ...\n",
      "30 / 800 Loading rabbit.125.jpg ...\n",
      "35 / 800 Loading rabbit.13.jpg ...\n",
      "40 / 800 Loading rabbit.134.jpg ...\n",
      "45 / 800 Loading rabbit.139.jpg ...\n",
      "50 / 800 Loading rabbit.143.jpg ...\n",
      "55 / 800 Loading rabbit.148.jpg ...\n",
      "60 / 800 Loading rabbit.152.jpg ...\n",
      "65 / 800 Loading rabbit.157.jpg ...\n",
      "70 / 800 Loading rabbit.161.jpg ...\n",
      "75 / 800 Loading rabbit.166.jpg ...\n",
      "80 / 800 Loading rabbit.170.jpg ...\n",
      "85 / 800 Loading rabbit.175.jpg ...\n",
      "90 / 800 Loading rabbit.18.jpg ...\n",
      "95 / 800 Loading rabbit.184.jpg ...\n",
      "100 / 800 Loading rabbit.189.jpg ...\n",
      "105 / 800 Loading rabbit.193.jpg ...\n",
      "110 / 800 Loading rabbit.198.jpg ...\n",
      "115 / 800 Loading rabbit.201.jpg ...\n",
      "120 / 800 Loading rabbit.206.jpg ...\n",
      "125 / 800 Loading rabbit.210.jpg ...\n",
      "130 / 800 Loading rabbit.215.jpg ...\n",
      "135 / 800 Loading rabbit.22.jpg ...\n",
      "140 / 800 Loading rabbit.224.jpg ...\n",
      "145 / 800 Loading rabbit.229.jpg ...\n",
      "150 / 800 Loading rabbit.233.jpg ...\n",
      "155 / 800 Loading rabbit.238.jpg ...\n",
      "160 / 800 Loading rabbit.242.jpg ...\n",
      "165 / 800 Loading rabbit.247.jpg ...\n",
      "170 / 800 Loading rabbit.251.jpg ...\n",
      "175 / 800 Loading rabbit.256.jpg ...\n",
      "180 / 800 Loading rabbit.260.jpg ...\n",
      "185 / 800 Loading rabbit.265.jpg ...\n",
      "190 / 800 Loading rabbit.27.jpg ...\n",
      "195 / 800 Loading rabbit.274.jpg ...\n",
      "200 / 800 Loading rabbit.279.jpg ...\n",
      "205 / 800 Loading rabbit.283.jpg ...\n",
      "210 / 800 Loading rabbit.288.jpg ...\n",
      "215 / 800 Loading rabbit.292.jpg ...\n",
      "220 / 800 Loading rabbit.297.jpg ...\n",
      "225 / 800 Loading rabbit.300.jpg ...\n",
      "230 / 800 Loading rabbit.305.jpg ...\n",
      "235 / 800 Loading rabbit.31.jpg ...\n",
      "240 / 800 Loading rabbit.314.jpg ...\n",
      "245 / 800 Loading rabbit.319.jpg ...\n",
      "250 / 800 Loading rabbit.323.jpg ...\n",
      "255 / 800 Loading rabbit.328.jpg ...\n",
      "260 / 800 Loading rabbit.332.jpg ...\n",
      "265 / 800 Loading rabbit.337.jpg ...\n",
      "270 / 800 Loading rabbit.341.jpg ...\n",
      "275 / 800 Loading rabbit.346.jpg ...\n",
      "280 / 800 Loading rabbit.350.jpg ...\n",
      "285 / 800 Loading rabbit.355.jpg ...\n",
      "290 / 800 Loading rabbit.36.jpg ...\n",
      "295 / 800 Loading rabbit.364.jpg ...\n",
      "300 / 800 Loading rabbit.369.jpg ...\n",
      "305 / 800 Loading rabbit.373.jpg ...\n",
      "310 / 800 Loading rabbit.378.jpg ...\n",
      "315 / 800 Loading rabbit.382.jpg ...\n",
      "320 / 800 Loading rabbit.387.jpg ...\n",
      "325 / 800 Loading rabbit.391.jpg ...\n",
      "330 / 800 Loading rabbit.396.jpg ...\n",
      "335 / 800 Loading rabbit.40.jpg ...\n",
      "340 / 800 Loading rabbit.404.jpg ...\n",
      "345 / 800 Loading rabbit.409.jpg ...\n",
      "350 / 800 Loading rabbit.413.jpg ...\n",
      "355 / 800 Loading rabbit.418.jpg ...\n",
      "360 / 800 Loading rabbit.422.jpg ...\n",
      "365 / 800 Loading rabbit.427.jpg ...\n",
      "370 / 800 Loading rabbit.431.jpg ...\n",
      "375 / 800 Loading rabbit.436.jpg ...\n",
      "380 / 800 Loading rabbit.440.jpg ...\n"
     ]
    },
    {
     "name": "stdout",
     "output_type": "stream",
     "text": [
      "385 / 800 Loading rabbit.445.jpg ...\n",
      "390 / 800 Loading rabbit.45.jpg ...\n",
      "395 / 800 Loading rabbit.454.jpg ...\n",
      "400 / 800 Loading rabbit.459.jpg ...\n",
      "405 / 800 Loading rabbit.463.jpg ...\n",
      "410 / 800 Loading rabbit.468.jpg ...\n",
      "415 / 800 Loading rabbit.472.jpg ...\n",
      "420 / 800 Loading rabbit.477.jpg ...\n",
      "425 / 800 Loading rabbit.481.jpg ...\n",
      "430 / 800 Loading rabbit.486.jpg ...\n",
      "435 / 800 Loading rabbit.490.jpg ...\n",
      "440 / 800 Loading rabbit.495.jpg ...\n",
      "445 / 800 Loading rabbit.5.jpg ...\n",
      "450 / 800 Loading rabbit.503.jpg ...\n",
      "455 / 800 Loading rabbit.508.jpg ...\n",
      "460 / 800 Loading rabbit.512.jpg ...\n",
      "465 / 800 Loading rabbit.517.jpg ...\n",
      "470 / 800 Loading rabbit.521.jpg ...\n",
      "475 / 800 Loading rabbit.526.jpg ...\n",
      "480 / 800 Loading rabbit.530.jpg ...\n",
      "485 / 800 Loading rabbit.535.jpg ...\n",
      "490 / 800 Loading rabbit.54.jpg ...\n",
      "495 / 800 Loading rabbit.544.jpg ...\n",
      "500 / 800 Loading rabbit.549.jpg ...\n",
      "505 / 800 Loading rabbit.553.jpg ...\n",
      "510 / 800 Loading rabbit.558.jpg ...\n",
      "515 / 800 Loading rabbit.562.jpg ...\n",
      "520 / 800 Loading rabbit.567.jpg ...\n",
      "525 / 800 Loading rabbit.571.jpg ...\n",
      "530 / 800 Loading rabbit.576.jpg ...\n",
      "535 / 800 Loading rabbit.580.jpg ...\n",
      "540 / 800 Loading rabbit.585.jpg ...\n",
      "545 / 800 Loading rabbit.59.jpg ...\n",
      "550 / 800 Loading rabbit.594.jpg ...\n",
      "555 / 800 Loading rabbit.599.jpg ...\n",
      "560 / 800 Loading rabbit.602.jpg ...\n",
      "565 / 800 Loading rabbit.607.jpg ...\n",
      "570 / 800 Loading rabbit.611.jpg ...\n",
      "575 / 800 Loading rabbit.616.jpg ...\n",
      "580 / 800 Loading rabbit.620.jpg ...\n",
      "585 / 800 Loading rabbit.625.jpg ...\n",
      "590 / 800 Loading rabbit.63.jpg ...\n",
      "595 / 800 Loading rabbit.634.jpg ...\n",
      "600 / 800 Loading rabbit.639.jpg ...\n",
      "605 / 800 Loading rabbit.643.jpg ...\n",
      "610 / 800 Loading rabbit.648.jpg ...\n",
      "615 / 800 Loading rabbit.652.jpg ...\n",
      "620 / 800 Loading rabbit.657.jpg ...\n",
      "625 / 800 Loading rabbit.661.jpg ...\n",
      "630 / 800 Loading rabbit.666.jpg ...\n",
      "635 / 800 Loading rabbit.670.jpg ...\n",
      "640 / 800 Loading rabbit.675.jpg ...\n",
      "645 / 800 Loading rabbit.68.jpg ...\n",
      "650 / 800 Loading rabbit.684.jpg ...\n",
      "655 / 800 Loading rabbit.689.jpg ...\n",
      "660 / 800 Loading rabbit.693.jpg ...\n",
      "665 / 800 Loading rabbit.698.jpg ...\n",
      "670 / 800 Loading rabbit.701.jpg ...\n",
      "675 / 800 Loading rabbit.706.jpg ...\n",
      "680 / 800 Loading rabbit.710.jpg ...\n",
      "685 / 800 Loading rabbit.715.jpg ...\n",
      "690 / 800 Loading rabbit.72.jpg ...\n",
      "695 / 800 Loading rabbit.724.jpg ...\n",
      "700 / 800 Loading rabbit.729.jpg ...\n",
      "705 / 800 Loading rabbit.733.jpg ...\n",
      "710 / 800 Loading rabbit.738.jpg ...\n",
      "715 / 800 Loading rabbit.742.jpg ...\n",
      "720 / 800 Loading rabbit.747.jpg ...\n",
      "725 / 800 Loading rabbit.751.jpg ...\n",
      "730 / 800 Loading rabbit.756.jpg ...\n",
      "735 / 800 Loading rabbit.760.jpg ...\n",
      "740 / 800 Loading rabbit.765.jpg ...\n",
      "745 / 800 Loading rabbit.77.jpg ...\n",
      "750 / 800 Loading rabbit.774.jpg ...\n",
      "755 / 800 Loading rabbit.779.jpg ...\n",
      "760 / 800 Loading rabbit.783.jpg ...\n",
      "765 / 800 Loading rabbit.788.jpg ...\n",
      "770 / 800 Loading rabbit.792.jpg ...\n",
      "775 / 800 Loading rabbit.797.jpg ...\n",
      "780 / 800 Loading rabbit.800.jpg ...\n",
      "785 / 800 Loading rabbit.85.jpg ...\n",
      "790 / 800 Loading rabbit.9.jpg ...\n",
      "795 / 800 Loading rabbit.94.jpg ...\n",
      "800 / 800 Loading rabbit.99.jpg ...\n",
      "Images Done!\n"
     ]
    }
   ],
   "source": [
    "X_train, Y_train = get_images('Images/train/')"
   ]
  },
  {
   "cell_type": "code",
   "execution_count": 5,
   "id": "9db6239f",
   "metadata": {
    "scrolled": true
   },
   "outputs": [
    {
     "name": "stdout",
     "output_type": "stream",
     "text": [
      "Processing Images...\n",
      "5 / 207 Loading cat.102.jpg ...\n",
      "10 / 207 Loading cat.107.jpg ...\n",
      "15 / 207 Loading cat.111.jpg ...\n",
      "20 / 207 Loading cat.116.jpg ...\n",
      "25 / 207 Loading cat.120.jpg ...\n",
      "30 / 207 Loading cat.125.jpg ...\n",
      "35 / 207 Loading cat.13.jpg ...\n",
      "40 / 207 Loading cat.134.jpg ...\n",
      "45 / 207 Loading cat.139.jpg ...\n",
      "50 / 207 Loading cat.143.jpg ...\n",
      "55 / 207 Loading cat.148.jpg ...\n",
      "60 / 207 Loading cat.152.jpg ...\n",
      "65 / 207 Loading cat.157.jpg ...\n",
      "70 / 207 Loading cat.161.jpg ...\n",
      "75 / 207 Loading cat.166.jpg ...\n",
      "80 / 207 Loading cat.170.jpg ...\n",
      "85 / 207 Loading cat.175.jpg ...\n",
      "90 / 207 Loading cat.18.jpg ...\n",
      "95 / 207 Loading cat.184.jpg ...\n",
      "100 / 207 Loading cat.189.jpg ...\n",
      "105 / 207 Loading cat.193.jpg ...\n",
      "110 / 207 Loading cat.198.jpg ...\n",
      "115 / 207 Loading cat.201.jpg ...\n",
      "120 / 207 Loading cat.206.jpg ...\n",
      "125 / 207 Loading cat.24.jpg ...\n",
      "130 / 207 Loading cat.29.jpg ...\n",
      "135 / 207 Loading cat.33.jpg ...\n",
      "140 / 207 Loading cat.38.jpg ...\n",
      "145 / 207 Loading cat.42.jpg ...\n",
      "150 / 207 Loading cat.47.jpg ...\n",
      "155 / 207 Loading cat.51.jpg ...\n",
      "160 / 207 Loading cat.56.jpg ...\n",
      "165 / 207 Loading cat.60.jpg ...\n",
      "170 / 207 Loading cat.65.jpg ...\n",
      "175 / 207 Loading cat.7.jpg ...\n",
      "180 / 207 Loading cat.74.jpg ...\n",
      "185 / 207 Loading cat.79.jpg ...\n",
      "190 / 207 Loading cat.83.jpg ...\n",
      "195 / 207 Loading cat.88.jpg ...\n",
      "200 / 207 Loading cat.92.jpg ...\n",
      "205 / 207 Loading cat.97.jpg ...\n",
      "5 / 207 Loading rabbit.102.jpg ...\n",
      "10 / 207 Loading rabbit.107.jpg ...\n",
      "15 / 207 Loading rabbit.111.jpg ...\n",
      "20 / 207 Loading rabbit.116.jpg ...\n",
      "25 / 207 Loading rabbit.120.jpg ...\n",
      "30 / 207 Loading rabbit.125.jpg ...\n",
      "35 / 207 Loading rabbit.13.jpg ...\n",
      "40 / 207 Loading rabbit.134.jpg ...\n",
      "45 / 207 Loading rabbit.139.jpg ...\n",
      "50 / 207 Loading rabbit.143.jpg ...\n",
      "55 / 207 Loading rabbit.148.jpg ...\n",
      "60 / 207 Loading rabbit.152.jpg ...\n",
      "65 / 207 Loading rabbit.157.jpg ...\n",
      "70 / 207 Loading rabbit.161.jpg ...\n",
      "75 / 207 Loading rabbit.166.jpg ...\n",
      "80 / 207 Loading rabbit.170.jpg ...\n",
      "85 / 207 Loading rabbit.175.jpg ...\n",
      "90 / 207 Loading rabbit.18.jpg ...\n",
      "95 / 207 Loading rabbit.184.jpg ...\n",
      "100 / 207 Loading rabbit.189.jpg ...\n",
      "105 / 207 Loading rabbit.193.jpg ...\n",
      "110 / 207 Loading rabbit.198.jpg ...\n",
      "115 / 207 Loading rabbit.201.jpg ...\n",
      "120 / 207 Loading rabbit.206.jpg ...\n",
      "125 / 207 Loading rabbit.24.jpg ...\n",
      "130 / 207 Loading rabbit.29.jpg ...\n",
      "135 / 207 Loading rabbit.33.jpg ...\n",
      "140 / 207 Loading rabbit.38.jpg ...\n",
      "145 / 207 Loading rabbit.42.jpg ...\n",
      "150 / 207 Loading rabbit.47.jpg ...\n",
      "155 / 207 Loading rabbit.51.jpg ...\n",
      "160 / 207 Loading rabbit.56.jpg ...\n",
      "165 / 207 Loading rabbit.60.jpg ...\n",
      "170 / 207 Loading rabbit.65.jpg ...\n",
      "175 / 207 Loading rabbit.7.jpg ...\n",
      "180 / 207 Loading rabbit.74.jpg ...\n",
      "185 / 207 Loading rabbit.79.jpg ...\n",
      "190 / 207 Loading rabbit.83.jpg ...\n",
      "195 / 207 Loading rabbit.88.jpg ...\n",
      "200 / 207 Loading rabbit.92.jpg ...\n",
      "205 / 207 Loading rabbit.97.jpg ...\n",
      "Images Done!\n"
     ]
    }
   ],
   "source": [
    "X_valid, Y_valid = get_images('Images/val/')"
   ]
  },
  {
   "cell_type": "markdown",
   "id": "0d284dc0",
   "metadata": {},
   "source": [
    "# Split training set and validation set"
   ]
  },
  {
   "cell_type": "code",
   "execution_count": 4,
   "id": "78c5f2d7",
   "metadata": {},
   "outputs": [],
   "source": [
    "# load training data\n",
    "X_train = load_data('x_train.pickle')\n",
    "Y_train = load_data('y_train.pickle')"
   ]
  },
  {
   "cell_type": "code",
   "execution_count": 5,
   "id": "4bd2d75f",
   "metadata": {},
   "outputs": [],
   "source": [
    "X_valid = load_data('x_valid.pickle')\n",
    "Y_valid = load_data('y_valid.pickle')"
   ]
  },
  {
   "cell_type": "code",
   "execution_count": 8,
   "id": "b9c530c6",
   "metadata": {},
   "outputs": [],
   "source": [
    "# Setting data_images to train and test\n",
    "# X_train, X_valid, Y_train, Y_valid = train_test_split(X_rand_data, Y_rand_data, test_size=.15)"
   ]
  },
  {
   "cell_type": "code",
   "execution_count": 6,
   "id": "ac23741d",
   "metadata": {},
   "outputs": [],
   "source": [
    "# save training data\n",
    "save_data(X_train, 'x_train.pickle')\n",
    "save_data(Y_train, 'y_train.pickle')"
   ]
  },
  {
   "cell_type": "code",
   "execution_count": 7,
   "id": "db896b0d",
   "metadata": {},
   "outputs": [],
   "source": [
    "save_data(X_valid, 'x_valid.pickle')\n",
    "save_data(Y_valid, 'y_valid.pickle')"
   ]
  },
  {
   "cell_type": "markdown",
   "id": "dea32b12",
   "metadata": {},
   "source": [
    "# Make SVM Model"
   ]
  },
  {
   "cell_type": "code",
   "execution_count": 7,
   "id": "8c2c8c9b",
   "metadata": {},
   "outputs": [],
   "source": [
    "# load model\n",
    "model = load_data('model.pickle')"
   ]
  },
  {
   "cell_type": "code",
   "execution_count": 8,
   "id": "49403e51",
   "metadata": {},
   "outputs": [
    {
     "name": "stdout",
     "output_type": "stream",
     "text": [
      "Fitting model with traings...\n",
      "Fitting Done!\n"
     ]
    }
   ],
   "source": [
    "print('Fitting model with traings...')\n",
    "model = svm.SVC(C=2)\n",
    "model.fit(X_train, Y_train)\n",
    "print('Fitting Done!')"
   ]
  },
  {
   "cell_type": "code",
   "execution_count": 9,
   "id": "c97661dc",
   "metadata": {},
   "outputs": [
    {
     "name": "stdout",
     "output_type": "stream",
     "text": [
      "Calculating Model Accuracy...\n",
      "Accuracy: : 0.976875\n"
     ]
    }
   ],
   "source": [
    "print(\"Calculating Model Accuracy...\")\n",
    "print(f\"Accuracy: : {model.score(X_train, Y_train)}\")"
   ]
  },
  {
   "cell_type": "code",
   "execution_count": 10,
   "id": "e72536ba",
   "metadata": {},
   "outputs": [],
   "source": [
    "# save model\n",
    "save_data(model, 'model.pickle')"
   ]
  },
  {
   "cell_type": "markdown",
   "id": "c10e765d",
   "metadata": {},
   "source": [
    "# Prediction Validation Set"
   ]
  },
  {
   "cell_type": "code",
   "execution_count": 11,
   "id": "e0ffee43",
   "metadata": {},
   "outputs": [
    {
     "name": "stdout",
     "output_type": "stream",
     "text": [
      "Accuracy:  0.7198067632850241\n"
     ]
    }
   ],
   "source": [
    "# Prediction\n",
    "prediction = model.predict(X_valid)\n",
    "accuracy = model.score(X_valid, Y_valid)\n",
    "print('Accuracy: ', accuracy)"
   ]
  },
  {
   "cell_type": "code",
   "execution_count": 12,
   "id": "0809cf11",
   "metadata": {},
   "outputs": [
    {
     "data": {
      "image/png": "[encoded data removed]",
      "text/plain": [
       "<Figure size 720x504 with 2 Axes>"
      ]
     },
     "metadata": {},
     "output_type": "display_data"
    }
   ],
   "source": [
    "plot_confusion_matrix(prediction, Y_valid)"
   ]
  },
  {
   "cell_type": "code",
   "execution_count": 13,
   "id": "05180569",
   "metadata": {},
   "outputs": [
    {
     "name": "stdout",
     "output_type": "stream",
     "text": [
      "0.7198067632850242\n"
     ]
    }
   ],
   "source": [
    "print(roc_auc_score(Y_valid, prediction))"
   ]
  },
  {
   "cell_type": "code",
   "execution_count": 14,
   "id": "68c4df1b",
   "metadata": {},
   "outputs": [
    {
     "data": {
      "image/png": "[encoded data removed]",
      "text/plain": [
       "<Figure size 576x396 with 1 Axes>"
      ]
     },
     "metadata": {},
     "output_type": "display_data"
    }
   ],
   "source": [
    "show_roc_curve(prediction, Y_valid)"
   ]
  },
  {
   "cell_type": "code",
   "execution_count": 15,
   "id": "4332b9b2",
   "metadata": {},
   "outputs": [
    {
     "data": {
      "image/png": "[encoded data removed]",
      "text/plain": [
       "<Figure size 576x396 with 1 Axes>"
      ]
     },
     "metadata": {},
     "output_type": "display_data"
    },
    {
     "ename": "ValueError",
     "evalue": "The truth value of an array with more than one element is ambiguous. Use a.any() or a.all()",
     "output_type": "error",
     "traceback": [
      "\u001b[1;31m---------------------------------------------------------------------------\u001b[0m",
      "\u001b[1;31mValueError\u001b[0m                                Traceback (most recent call last)",
      "\u001b[1;32m<ipython-input-15-8a10ac00f216>\u001b[0m in \u001b[0;36m<module>\u001b[1;34m\u001b[0m\n\u001b[1;32m----> 1\u001b[1;33m \u001b[0mprint\u001b[0m\u001b[1;33m(\u001b[0m\u001b[0mlearning_curve\u001b[0m\u001b[1;33m(\u001b[0m\u001b[0mmodel\u001b[0m\u001b[1;33m,\u001b[0m \u001b[0mX_valid\u001b[0m\u001b[1;33m,\u001b[0m \u001b[0mY_valid\u001b[0m\u001b[1;33m,\u001b[0m \u001b[0mcv\u001b[0m\u001b[1;33m=\u001b[0m\u001b[1;36m6\u001b[0m\u001b[1;33m,\u001b[0m \u001b[0mscoring\u001b[0m\u001b[1;33m=\u001b[0m\u001b[1;34m'accuracy'\u001b[0m\u001b[1;33m)\u001b[0m\u001b[1;33m)\u001b[0m\u001b[1;33m\u001b[0m\u001b[1;33m\u001b[0m\u001b[0m\n\u001b[0m",
      "\u001b[1;32m~\\anaconda3\\lib\\site-packages\\sklearn\\base.py\u001b[0m in \u001b[0;36m__repr__\u001b[1;34m(self, N_CHAR_MAX)\u001b[0m\n\u001b[0;32m    258\u001b[0m             n_max_elements_to_show=N_MAX_ELEMENTS_TO_SHOW)\n\u001b[0;32m    259\u001b[0m \u001b[1;33m\u001b[0m\u001b[0m\n\u001b[1;32m--> 260\u001b[1;33m         \u001b[0mrepr_\u001b[0m \u001b[1;33m=\u001b[0m \u001b[0mpp\u001b[0m\u001b[1;33m.\u001b[0m\u001b[0mpformat\u001b[0m\u001b[1;33m(\u001b[0m\u001b[0mself\u001b[0m\u001b[1;33m)\u001b[0m\u001b[1;33m\u001b[0m\u001b[1;33m\u001b[0m\u001b[0m\n\u001b[0m\u001b[0;32m    261\u001b[0m \u001b[1;33m\u001b[0m\u001b[0m\n\u001b[0;32m    262\u001b[0m         \u001b[1;31m# Use bruteforce ellipsis when there are a lot of non-blank characters\u001b[0m\u001b[1;33m\u001b[0m\u001b[1;33m\u001b[0m\u001b[1;33m\u001b[0m\u001b[0m\n",
      "\u001b[1;32m~\\anaconda3\\lib\\pprint.py\u001b[0m in \u001b[0;36mpformat\u001b[1;34m(self, object)\u001b[0m\n\u001b[0;32m    151\u001b[0m     \u001b[1;32mdef\u001b[0m \u001b[0mpformat\u001b[0m\u001b[1;33m(\u001b[0m\u001b[0mself\u001b[0m\u001b[1;33m,\u001b[0m \u001b[0mobject\u001b[0m\u001b[1;33m)\u001b[0m\u001b[1;33m:\u001b[0m\u001b[1;33m\u001b[0m\u001b[1;33m\u001b[0m\u001b[0m\n\u001b[0;32m    152\u001b[0m         \u001b[0msio\u001b[0m \u001b[1;33m=\u001b[0m \u001b[0m_StringIO\u001b[0m\u001b[1;33m(\u001b[0m\u001b[1;33m)\u001b[0m\u001b[1;33m\u001b[0m\u001b[1;33m\u001b[0m\u001b[0m\n\u001b[1;32m--> 153\u001b[1;33m         \u001b[0mself\u001b[0m\u001b[1;33m.\u001b[0m\u001b[0m_format\u001b[0m\u001b[1;33m(\u001b[0m\u001b[0mobject\u001b[0m\u001b[1;33m,\u001b[0m \u001b[0msio\u001b[0m\u001b[1;33m,\u001b[0m \u001b[1;36m0\u001b[0m\u001b[1;33m,\u001b[0m \u001b[1;36m0\u001b[0m\u001b[1;33m,\u001b[0m \u001b[1;33m{\u001b[0m\u001b[1;33m}\u001b[0m\u001b[1;33m,\u001b[0m \u001b[1;36m0\u001b[0m\u001b[1;33m)\u001b[0m\u001b[1;33m\u001b[0m\u001b[1;33m\u001b[0m\u001b[0m\n\u001b[0m\u001b[0;32m    154\u001b[0m         \u001b[1;32mreturn\u001b[0m \u001b[0msio\u001b[0m\u001b[1;33m.\u001b[0m\u001b[0mgetvalue\u001b[0m\u001b[1;33m(\u001b[0m\u001b[1;33m)\u001b[0m\u001b[1;33m\u001b[0m\u001b[1;33m\u001b[0m\u001b[0m\n\u001b[0;32m    155\u001b[0m \u001b[1;33m\u001b[0m\u001b[0m\n",
      "\u001b[1;32m~\\anaconda3\\lib\\pprint.py\u001b[0m in \u001b[0;36m_format\u001b[1;34m(self, object, stream, indent, allowance, context, level)\u001b[0m\n\u001b[0;32m    168\u001b[0m             \u001b[0mself\u001b[0m\u001b[1;33m.\u001b[0m\u001b[0m_readable\u001b[0m \u001b[1;33m=\u001b[0m \u001b[1;32mFalse\u001b[0m\u001b[1;33m\u001b[0m\u001b[1;33m\u001b[0m\u001b[0m\n\u001b[0;32m    169\u001b[0m             \u001b[1;32mreturn\u001b[0m\u001b[1;33m\u001b[0m\u001b[1;33m\u001b[0m\u001b[0m\n\u001b[1;32m--> 170\u001b[1;33m         \u001b[0mrep\u001b[0m \u001b[1;33m=\u001b[0m \u001b[0mself\u001b[0m\u001b[1;33m.\u001b[0m\u001b[0m_repr\u001b[0m\u001b[1;33m(\u001b[0m\u001b[0mobject\u001b[0m\u001b[1;33m,\u001b[0m \u001b[0mcontext\u001b[0m\u001b[1;33m,\u001b[0m \u001b[0mlevel\u001b[0m\u001b[1;33m)\u001b[0m\u001b[1;33m\u001b[0m\u001b[1;33m\u001b[0m\u001b[0m\n\u001b[0m\u001b[0;32m    171\u001b[0m         \u001b[0mmax_width\u001b[0m \u001b[1;33m=\u001b[0m \u001b[0mself\u001b[0m\u001b[1;33m.\u001b[0m\u001b[0m_width\u001b[0m \u001b[1;33m-\u001b[0m \u001b[0mindent\u001b[0m \u001b[1;33m-\u001b[0m \u001b[0mallowance\u001b[0m\u001b[1;33m\u001b[0m\u001b[1;33m\u001b[0m\u001b[0m\n\u001b[0;32m    172\u001b[0m         \u001b[1;32mif\u001b[0m \u001b[0mlen\u001b[0m\u001b[1;33m(\u001b[0m\u001b[0mrep\u001b[0m\u001b[1;33m)\u001b[0m \u001b[1;33m>\u001b[0m \u001b[0mmax_width\u001b[0m\u001b[1;33m:\u001b[0m\u001b[1;33m\u001b[0m\u001b[1;33m\u001b[0m\u001b[0m\n",
      "\u001b[1;32m~\\anaconda3\\lib\\pprint.py\u001b[0m in \u001b[0;36m_repr\u001b[1;34m(self, object, context, level)\u001b[0m\n\u001b[0;32m    402\u001b[0m \u001b[1;33m\u001b[0m\u001b[0m\n\u001b[0;32m    403\u001b[0m     \u001b[1;32mdef\u001b[0m \u001b[0m_repr\u001b[0m\u001b[1;33m(\u001b[0m\u001b[0mself\u001b[0m\u001b[1;33m,\u001b[0m \u001b[0mobject\u001b[0m\u001b[1;33m,\u001b[0m \u001b[0mcontext\u001b[0m\u001b[1;33m,\u001b[0m \u001b[0mlevel\u001b[0m\u001b[1;33m)\u001b[0m\u001b[1;33m:\u001b[0m\u001b[1;33m\u001b[0m\u001b[1;33m\u001b[0m\u001b[0m\n\u001b[1;32m--> 404\u001b[1;33m         repr, readable, recursive = self.format(object, context.copy(),\n\u001b[0m\u001b[0;32m    405\u001b[0m                                                 self._depth, level)\n\u001b[0;32m    406\u001b[0m         \u001b[1;32mif\u001b[0m \u001b[1;32mnot\u001b[0m \u001b[0mreadable\u001b[0m\u001b[1;33m:\u001b[0m\u001b[1;33m\u001b[0m\u001b[1;33m\u001b[0m\u001b[0m\n",
      "\u001b[1;32m~\\anaconda3\\lib\\site-packages\\sklearn\\utils\\_pprint.py\u001b[0m in \u001b[0;36mformat\u001b[1;34m(self, object, context, maxlevels, level)\u001b[0m\n\u001b[0;32m    178\u001b[0m \u001b[1;33m\u001b[0m\u001b[0m\n\u001b[0;32m    179\u001b[0m     \u001b[1;32mdef\u001b[0m \u001b[0mformat\u001b[0m\u001b[1;33m(\u001b[0m\u001b[0mself\u001b[0m\u001b[1;33m,\u001b[0m \u001b[0mobject\u001b[0m\u001b[1;33m,\u001b[0m \u001b[0mcontext\u001b[0m\u001b[1;33m,\u001b[0m \u001b[0mmaxlevels\u001b[0m\u001b[1;33m,\u001b[0m \u001b[0mlevel\u001b[0m\u001b[1;33m)\u001b[0m\u001b[1;33m:\u001b[0m\u001b[1;33m\u001b[0m\u001b[1;33m\u001b[0m\u001b[0m\n\u001b[1;32m--> 180\u001b[1;33m         return _safe_repr(object, context, maxlevels, level,\n\u001b[0m\u001b[0;32m    181\u001b[0m                           changed_only=self._changed_only)\n\u001b[0;32m    182\u001b[0m \u001b[1;33m\u001b[0m\u001b[0m\n",
      "\u001b[1;32m~\\anaconda3\\lib\\site-packages\\sklearn\\utils\\_pprint.py\u001b[0m in \u001b[0;36m_safe_repr\u001b[1;34m(object, context, maxlevels, level, changed_only)\u001b[0m\n\u001b[0;32m    423\u001b[0m         \u001b[0mrecursive\u001b[0m \u001b[1;33m=\u001b[0m \u001b[1;32mFalse\u001b[0m\u001b[1;33m\u001b[0m\u001b[1;33m\u001b[0m\u001b[0m\n\u001b[0;32m    424\u001b[0m         \u001b[1;32mif\u001b[0m \u001b[0mchanged_only\u001b[0m\u001b[1;33m:\u001b[0m\u001b[1;33m\u001b[0m\u001b[1;33m\u001b[0m\u001b[0m\n\u001b[1;32m--> 425\u001b[1;33m             \u001b[0mparams\u001b[0m \u001b[1;33m=\u001b[0m \u001b[0m_changed_params\u001b[0m\u001b[1;33m(\u001b[0m\u001b[0mobject\u001b[0m\u001b[1;33m)\u001b[0m\u001b[1;33m\u001b[0m\u001b[1;33m\u001b[0m\u001b[0m\n\u001b[0m\u001b[0;32m    426\u001b[0m         \u001b[1;32melse\u001b[0m\u001b[1;33m:\u001b[0m\u001b[1;33m\u001b[0m\u001b[1;33m\u001b[0m\u001b[0m\n\u001b[0;32m    427\u001b[0m             \u001b[0mparams\u001b[0m \u001b[1;33m=\u001b[0m \u001b[0mobject\u001b[0m\u001b[1;33m.\u001b[0m\u001b[0mget_params\u001b[0m\u001b[1;33m(\u001b[0m\u001b[0mdeep\u001b[0m\u001b[1;33m=\u001b[0m\u001b[1;32mFalse\u001b[0m\u001b[1;33m)\u001b[0m\u001b[1;33m\u001b[0m\u001b[1;33m\u001b[0m\u001b[0m\n",
      "\u001b[1;32m~\\anaconda3\\lib\\site-packages\\sklearn\\utils\\_pprint.py\u001b[0m in \u001b[0;36m_changed_params\u001b[1;34m(estimator)\u001b[0m\n\u001b[0;32m    110\u001b[0m         \u001b[1;32mreturn\u001b[0m \u001b[1;32mFalse\u001b[0m\u001b[1;33m\u001b[0m\u001b[1;33m\u001b[0m\u001b[0m\n\u001b[0;32m    111\u001b[0m \u001b[1;33m\u001b[0m\u001b[0m\n\u001b[1;32m--> 112\u001b[1;33m     \u001b[1;32mreturn\u001b[0m \u001b[1;33m{\u001b[0m\u001b[0mk\u001b[0m\u001b[1;33m:\u001b[0m \u001b[0mv\u001b[0m \u001b[1;32mfor\u001b[0m \u001b[0mk\u001b[0m\u001b[1;33m,\u001b[0m \u001b[0mv\u001b[0m \u001b[1;32min\u001b[0m \u001b[0mparams\u001b[0m\u001b[1;33m.\u001b[0m\u001b[0mitems\u001b[0m\u001b[1;33m(\u001b[0m\u001b[1;33m)\u001b[0m \u001b[1;32mif\u001b[0m \u001b[0mhas_changed\u001b[0m\u001b[1;33m(\u001b[0m\u001b[0mk\u001b[0m\u001b[1;33m,\u001b[0m \u001b[0mv\u001b[0m\u001b[1;33m)\u001b[0m\u001b[1;33m}\u001b[0m\u001b[1;33m\u001b[0m\u001b[1;33m\u001b[0m\u001b[0m\n\u001b[0m\u001b[0;32m    113\u001b[0m \u001b[1;33m\u001b[0m\u001b[0m\n\u001b[0;32m    114\u001b[0m \u001b[1;33m\u001b[0m\u001b[0m\n",
      "\u001b[1;32m~\\anaconda3\\lib\\site-packages\\sklearn\\utils\\_pprint.py\u001b[0m in \u001b[0;36m<dictcomp>\u001b[1;34m(.0)\u001b[0m\n\u001b[0;32m    110\u001b[0m         \u001b[1;32mreturn\u001b[0m \u001b[1;32mFalse\u001b[0m\u001b[1;33m\u001b[0m\u001b[1;33m\u001b[0m\u001b[0m\n\u001b[0;32m    111\u001b[0m \u001b[1;33m\u001b[0m\u001b[0m\n\u001b[1;32m--> 112\u001b[1;33m     \u001b[1;32mreturn\u001b[0m \u001b[1;33m{\u001b[0m\u001b[0mk\u001b[0m\u001b[1;33m:\u001b[0m \u001b[0mv\u001b[0m \u001b[1;32mfor\u001b[0m \u001b[0mk\u001b[0m\u001b[1;33m,\u001b[0m \u001b[0mv\u001b[0m \u001b[1;32min\u001b[0m \u001b[0mparams\u001b[0m\u001b[1;33m.\u001b[0m\u001b[0mitems\u001b[0m\u001b[1;33m(\u001b[0m\u001b[1;33m)\u001b[0m \u001b[1;32mif\u001b[0m \u001b[0mhas_changed\u001b[0m\u001b[1;33m(\u001b[0m\u001b[0mk\u001b[0m\u001b[1;33m,\u001b[0m \u001b[0mv\u001b[0m\u001b[1;33m)\u001b[0m\u001b[1;33m}\u001b[0m\u001b[1;33m\u001b[0m\u001b[1;33m\u001b[0m\u001b[0m\n\u001b[0m\u001b[0;32m    113\u001b[0m \u001b[1;33m\u001b[0m\u001b[0m\n\u001b[0;32m    114\u001b[0m \u001b[1;33m\u001b[0m\u001b[0m\n",
      "\u001b[1;32m~\\anaconda3\\lib\\site-packages\\sklearn\\utils\\_pprint.py\u001b[0m in \u001b[0;36mhas_changed\u001b[1;34m(k, v)\u001b[0m\n\u001b[0;32m     98\u001b[0m         \u001b[1;32mif\u001b[0m \u001b[0mk\u001b[0m \u001b[1;32mnot\u001b[0m \u001b[1;32min\u001b[0m \u001b[0minit_params\u001b[0m\u001b[1;33m:\u001b[0m  \u001b[1;31m# happens if k is part of a **kwargs\u001b[0m\u001b[1;33m\u001b[0m\u001b[1;33m\u001b[0m\u001b[0m\n\u001b[0;32m     99\u001b[0m             \u001b[1;32mreturn\u001b[0m \u001b[1;32mTrue\u001b[0m\u001b[1;33m\u001b[0m\u001b[1;33m\u001b[0m\u001b[0m\n\u001b[1;32m--> 100\u001b[1;33m         \u001b[1;32mif\u001b[0m \u001b[0minit_params\u001b[0m\u001b[1;33m[\u001b[0m\u001b[0mk\u001b[0m\u001b[1;33m]\u001b[0m \u001b[1;33m==\u001b[0m \u001b[0minspect\u001b[0m\u001b[1;33m.\u001b[0m\u001b[0m_empty\u001b[0m\u001b[1;33m:\u001b[0m  \u001b[1;31m# k has no default value\u001b[0m\u001b[1;33m\u001b[0m\u001b[1;33m\u001b[0m\u001b[0m\n\u001b[0m\u001b[0;32m    101\u001b[0m             \u001b[1;32mreturn\u001b[0m \u001b[1;32mTrue\u001b[0m\u001b[1;33m\u001b[0m\u001b[1;33m\u001b[0m\u001b[0m\n\u001b[0;32m    102\u001b[0m         \u001b[1;31m# try to avoid calling repr on nested estimators\u001b[0m\u001b[1;33m\u001b[0m\u001b[1;33m\u001b[0m\u001b[1;33m\u001b[0m\u001b[0m\n",
      "\u001b[1;31mValueError\u001b[0m: The truth value of an array with more than one element is ambiguous. Use a.any() or a.all()"
     ]
    }
   ],
   "source": [
    "print(learning_curve(model, X_valid, Y_valid, cv=6, scoring='accuracy'))"
   ]
  },
  {
   "cell_type": "markdown",
   "id": "fc0c677c",
   "metadata": {},
   "source": [
    "# Get Test Images And Pre-Processing Them"
   ]
  },
  {
   "cell_type": "code",
   "execution_count": 15,
   "id": "ffe4373f",
   "metadata": {},
   "outputs": [
    {
     "name": "stdout",
     "output_type": "stream",
     "text": [
      "Processing Images...\n",
      "5 / 10 Loading cat.234.jpg ...\n",
      "10 / 10 Loading cat.239.jpg ...\n",
      "5 / 5 Loading rabbit_test.jpeg ...\n",
      "Images Done!\n"
     ]
    }
   ],
   "source": [
    "X_test, Y_test = get_images('Images/test/')"
   ]
  },
  {
   "cell_type": "code",
   "execution_count": 16,
   "id": "b3b13271",
   "metadata": {},
   "outputs": [
    {
     "name": "stdout",
     "output_type": "stream",
     "text": [
      "Accuracy:  0.8666666666666667\n"
     ]
    }
   ],
   "source": [
    "# Prediction\n",
    "prediction = model.predict(X_test)\n",
    "accuracy = model.score(X_test, Y_test)\n",
    "print('Accuracy: ', accuracy)"
   ]
  },
  {
   "cell_type": "code",
   "execution_count": 17,
   "id": "d36cf5f4",
   "metadata": {},
   "outputs": [
    {
     "data": {
      "image/png": "[encoded data removed]",
      "text/plain": [
       "<Figure size 720x504 with 2 Axes>"
      ]
     },
     "metadata": {},
     "output_type": "display_data"
    }
   ],
   "source": [
    "plot_confusion_matrix(prediction, Y_test)"
   ]
  },
  {
   "cell_type": "code",
   "execution_count": 18,
   "id": "741f538e",
   "metadata": {},
   "outputs": [
    {
     "name": "stdout",
     "output_type": "stream",
     "text": [
      "0.8\n"
     ]
    }
   ],
   "source": [
    "print(roc_auc_score(Y_test, prediction))"
   ]
  },
  {
   "cell_type": "code",
   "execution_count": 19,
   "id": "39b62b75",
   "metadata": {},
   "outputs": [
    {
     "data": {
      "image/png": "[encoded data removed]",
      "text/plain": [
       "<Figure size 576x396 with 1 Axes>"
      ]
     },
     "metadata": {},
     "output_type": "display_data"
    }
   ],
   "source": [
    "show_roc_curve(prediction, Y_test)"
   ]
  },
  {
   "cell_type": "code",
   "execution_count": 25,
   "id": "573afc81",
   "metadata": {},
   "outputs": [
    {
     "name": "stderr",
     "output_type": "stream",
     "text": [
      "C:\\Users\\blood\\anaconda3\\lib\\site-packages\\sklearn\\model_selection\\_split.py:666: UserWarning: The least populated class in y has only 5 members, which is less than n_splits=10.\n",
      "  warnings.warn((\"The least populated class in y has only %d\"\n",
      "C:\\Users\\blood\\anaconda3\\lib\\site-packages\\sklearn\\model_selection\\_validation.py:610: FitFailedWarning: Estimator fit failed. The score on this train-test partition for these parameters will be set to nan. Details: \n",
      "Traceback (most recent call last):\n",
      "  File \"C:\\Users\\blood\\anaconda3\\lib\\site-packages\\sklearn\\model_selection\\_validation.py\", line 593, in _fit_and_score\n",
      "    estimator.fit(X_train, y_train, **fit_params)\n",
      "  File \"C:\\Users\\blood\\anaconda3\\lib\\site-packages\\sklearn\\svm\\_base.py\", line 173, in fit\n",
      "    y = self._validate_targets(y)\n",
      "  File \"C:\\Users\\blood\\anaconda3\\lib\\site-packages\\sklearn\\svm\\_base.py\", line 558, in _validate_targets\n",
      "    raise ValueError(\n",
      "ValueError: The number of classes has to be greater than one; got 1 class\n",
      "\n",
      "  warnings.warn(\"Estimator fit failed. The score on this train-test\"\n",
      "C:\\Users\\blood\\anaconda3\\lib\\site-packages\\sklearn\\model_selection\\_validation.py:610: FitFailedWarning: Estimator fit failed. The score on this train-test partition for these parameters will be set to nan. Details: \n",
      "Traceback (most recent call last):\n",
      "  File \"C:\\Users\\blood\\anaconda3\\lib\\site-packages\\sklearn\\model_selection\\_validation.py\", line 593, in _fit_and_score\n",
      "    estimator.fit(X_train, y_train, **fit_params)\n",
      "  File \"C:\\Users\\blood\\anaconda3\\lib\\site-packages\\sklearn\\svm\\_base.py\", line 173, in fit\n",
      "    y = self._validate_targets(y)\n",
      "  File \"C:\\Users\\blood\\anaconda3\\lib\\site-packages\\sklearn\\svm\\_base.py\", line 558, in _validate_targets\n",
      "    raise ValueError(\n",
      "ValueError: The number of classes has to be greater than one; got 1 class\n",
      "\n",
      "  warnings.warn(\"Estimator fit failed. The score on this train-test\"\n",
      "C:\\Users\\blood\\anaconda3\\lib\\site-packages\\sklearn\\model_selection\\_validation.py:610: FitFailedWarning: Estimator fit failed. The score on this train-test partition for these parameters will be set to nan. Details: \n",
      "Traceback (most recent call last):\n",
      "  File \"C:\\Users\\blood\\anaconda3\\lib\\site-packages\\sklearn\\model_selection\\_validation.py\", line 593, in _fit_and_score\n",
      "    estimator.fit(X_train, y_train, **fit_params)\n",
      "  File \"C:\\Users\\blood\\anaconda3\\lib\\site-packages\\sklearn\\svm\\_base.py\", line 173, in fit\n",
      "    y = self._validate_targets(y)\n",
      "  File \"C:\\Users\\blood\\anaconda3\\lib\\site-packages\\sklearn\\svm\\_base.py\", line 558, in _validate_targets\n",
      "    raise ValueError(\n",
      "ValueError: The number of classes has to be greater than one; got 1 class\n",
      "\n",
      "  warnings.warn(\"Estimator fit failed. The score on this train-test\"\n",
      "C:\\Users\\blood\\anaconda3\\lib\\site-packages\\sklearn\\model_selection\\_validation.py:610: FitFailedWarning: Estimator fit failed. The score on this train-test partition for these parameters will be set to nan. Details: \n",
      "Traceback (most recent call last):\n",
      "  File \"C:\\Users\\blood\\anaconda3\\lib\\site-packages\\sklearn\\model_selection\\_validation.py\", line 593, in _fit_and_score\n",
      "    estimator.fit(X_train, y_train, **fit_params)\n",
      "  File \"C:\\Users\\blood\\anaconda3\\lib\\site-packages\\sklearn\\svm\\_base.py\", line 173, in fit\n",
      "    y = self._validate_targets(y)\n",
      "  File \"C:\\Users\\blood\\anaconda3\\lib\\site-packages\\sklearn\\svm\\_base.py\", line 558, in _validate_targets\n",
      "    raise ValueError(\n",
      "ValueError: The number of classes has to be greater than one; got 1 class\n",
      "\n",
      "  warnings.warn(\"Estimator fit failed. The score on this train-test\"\n",
      "C:\\Users\\blood\\anaconda3\\lib\\site-packages\\sklearn\\model_selection\\_validation.py:610: FitFailedWarning: Estimator fit failed. The score on this train-test partition for these parameters will be set to nan. Details: \n",
      "Traceback (most recent call last):\n",
      "  File \"C:\\Users\\blood\\anaconda3\\lib\\site-packages\\sklearn\\model_selection\\_validation.py\", line 593, in _fit_and_score\n",
      "    estimator.fit(X_train, y_train, **fit_params)\n",
      "  File \"C:\\Users\\blood\\anaconda3\\lib\\site-packages\\sklearn\\svm\\_base.py\", line 173, in fit\n",
      "    y = self._validate_targets(y)\n",
      "  File \"C:\\Users\\blood\\anaconda3\\lib\\site-packages\\sklearn\\svm\\_base.py\", line 558, in _validate_targets\n",
      "    raise ValueError(\n",
      "ValueError: The number of classes has to be greater than one; got 1 class\n",
      "\n",
      "  warnings.warn(\"Estimator fit failed. The score on this train-test\"\n",
      "C:\\Users\\blood\\anaconda3\\lib\\site-packages\\sklearn\\model_selection\\_validation.py:610: FitFailedWarning: Estimator fit failed. The score on this train-test partition for these parameters will be set to nan. Details: \n",
      "Traceback (most recent call last):\n",
      "  File \"C:\\Users\\blood\\anaconda3\\lib\\site-packages\\sklearn\\model_selection\\_validation.py\", line 593, in _fit_and_score\n",
      "    estimator.fit(X_train, y_train, **fit_params)\n",
      "  File \"C:\\Users\\blood\\anaconda3\\lib\\site-packages\\sklearn\\svm\\_base.py\", line 173, in fit\n",
      "    y = self._validate_targets(y)\n",
      "  File \"C:\\Users\\blood\\anaconda3\\lib\\site-packages\\sklearn\\svm\\_base.py\", line 558, in _validate_targets\n",
      "    raise ValueError(\n",
      "ValueError: The number of classes has to be greater than one; got 1 class\n",
      "\n",
      "  warnings.warn(\"Estimator fit failed. The score on this train-test\"\n",
      "C:\\Users\\blood\\anaconda3\\lib\\site-packages\\sklearn\\model_selection\\_validation.py:610: FitFailedWarning: Estimator fit failed. The score on this train-test partition for these parameters will be set to nan. Details: \n",
      "Traceback (most recent call last):\n",
      "  File \"C:\\Users\\blood\\anaconda3\\lib\\site-packages\\sklearn\\model_selection\\_validation.py\", line 593, in _fit_and_score\n",
      "    estimator.fit(X_train, y_train, **fit_params)\n",
      "  File \"C:\\Users\\blood\\anaconda3\\lib\\site-packages\\sklearn\\svm\\_base.py\", line 173, in fit\n",
      "    y = self._validate_targets(y)\n",
      "  File \"C:\\Users\\blood\\anaconda3\\lib\\site-packages\\sklearn\\svm\\_base.py\", line 558, in _validate_targets\n",
      "    raise ValueError(\n",
      "ValueError: The number of classes has to be greater than one; got 1 class\n",
      "\n",
      "  warnings.warn(\"Estimator fit failed. The score on this train-test\"\n",
      "C:\\Users\\blood\\anaconda3\\lib\\site-packages\\sklearn\\model_selection\\_validation.py:610: FitFailedWarning: Estimator fit failed. The score on this train-test partition for these parameters will be set to nan. Details: \n",
      "Traceback (most recent call last):\n",
      "  File \"C:\\Users\\blood\\anaconda3\\lib\\site-packages\\sklearn\\model_selection\\_validation.py\", line 593, in _fit_and_score\n",
      "    estimator.fit(X_train, y_train, **fit_params)\n",
      "  File \"C:\\Users\\blood\\anaconda3\\lib\\site-packages\\sklearn\\svm\\_base.py\", line 173, in fit\n",
      "    y = self._validate_targets(y)\n",
      "  File \"C:\\Users\\blood\\anaconda3\\lib\\site-packages\\sklearn\\svm\\_base.py\", line 558, in _validate_targets\n",
      "    raise ValueError(\n",
      "ValueError: The number of classes has to be greater than one; got 1 class\n",
      "\n",
      "  warnings.warn(\"Estimator fit failed. The score on this train-test\"\n",
      "C:\\Users\\blood\\anaconda3\\lib\\site-packages\\sklearn\\model_selection\\_validation.py:610: FitFailedWarning: Estimator fit failed. The score on this train-test partition for these parameters will be set to nan. Details: \n",
      "Traceback (most recent call last):\n",
      "  File \"C:\\Users\\blood\\anaconda3\\lib\\site-packages\\sklearn\\model_selection\\_validation.py\", line 593, in _fit_and_score\n",
      "    estimator.fit(X_train, y_train, **fit_params)\n",
      "  File \"C:\\Users\\blood\\anaconda3\\lib\\site-packages\\sklearn\\svm\\_base.py\", line 173, in fit\n",
      "    y = self._validate_targets(y)\n",
      "  File \"C:\\Users\\blood\\anaconda3\\lib\\site-packages\\sklearn\\svm\\_base.py\", line 558, in _validate_targets\n",
      "    raise ValueError(\n",
      "ValueError: The number of classes has to be greater than one; got 1 class\n",
      "\n",
      "  warnings.warn(\"Estimator fit failed. The score on this train-test\"\n",
      "C:\\Users\\blood\\anaconda3\\lib\\site-packages\\sklearn\\model_selection\\_validation.py:610: FitFailedWarning: Estimator fit failed. The score on this train-test partition for these parameters will be set to nan. Details: \n",
      "Traceback (most recent call last):\n",
      "  File \"C:\\Users\\blood\\anaconda3\\lib\\site-packages\\sklearn\\model_selection\\_validation.py\", line 593, in _fit_and_score\n",
      "    estimator.fit(X_train, y_train, **fit_params)\n",
      "  File \"C:\\Users\\blood\\anaconda3\\lib\\site-packages\\sklearn\\svm\\_base.py\", line 173, in fit\n",
      "    y = self._validate_targets(y)\n",
      "  File \"C:\\Users\\blood\\anaconda3\\lib\\site-packages\\sklearn\\svm\\_base.py\", line 558, in _validate_targets\n",
      "    raise ValueError(\n",
      "ValueError: The number of classes has to be greater than one; got 1 class\n",
      "\n",
      "  warnings.warn(\"Estimator fit failed. The score on this train-test\"\n"
     ]
    },
    {
     "data": {
      "image/png": "[encoded data removed]",
      "text/plain": [
       "<Figure size 576x396 with 1 Axes>"
      ]
     },
     "metadata": {},
     "output_type": "display_data"
    },
    {
     "ename": "ValueError",
     "evalue": "The truth value of an array with more than one element is ambiguous. Use a.any() or a.all()",
     "output_type": "error",
     "traceback": [
      "\u001b[1;31m---------------------------------------------------------------------------\u001b[0m",
      "\u001b[1;31mValueError\u001b[0m                                Traceback (most recent call last)",
      "\u001b[1;32m<ipython-input-25-00702deec20f>\u001b[0m in \u001b[0;36m<module>\u001b[1;34m\u001b[0m\n\u001b[1;32m----> 1\u001b[1;33m \u001b[0mprint\u001b[0m\u001b[1;33m(\u001b[0m\u001b[0mlearning_curve\u001b[0m\u001b[1;33m(\u001b[0m\u001b[0mmodel\u001b[0m\u001b[1;33m,\u001b[0m \u001b[0mX_test\u001b[0m\u001b[1;33m,\u001b[0m \u001b[0mY_test\u001b[0m\u001b[1;33m,\u001b[0m \u001b[0mcv\u001b[0m\u001b[1;33m=\u001b[0m\u001b[1;36m10\u001b[0m\u001b[1;33m,\u001b[0m \u001b[0mscoring\u001b[0m\u001b[1;33m=\u001b[0m\u001b[1;34m'accuracy'\u001b[0m\u001b[1;33m)\u001b[0m\u001b[1;33m)\u001b[0m\u001b[1;33m\u001b[0m\u001b[1;33m\u001b[0m\u001b[0m\n\u001b[0m",
      "\u001b[1;32m~\\anaconda3\\lib\\site-packages\\sklearn\\base.py\u001b[0m in \u001b[0;36m__repr__\u001b[1;34m(self, N_CHAR_MAX)\u001b[0m\n\u001b[0;32m    258\u001b[0m             n_max_elements_to_show=N_MAX_ELEMENTS_TO_SHOW)\n\u001b[0;32m    259\u001b[0m \u001b[1;33m\u001b[0m\u001b[0m\n\u001b[1;32m--> 260\u001b[1;33m         \u001b[0mrepr_\u001b[0m \u001b[1;33m=\u001b[0m \u001b[0mpp\u001b[0m\u001b[1;33m.\u001b[0m\u001b[0mpformat\u001b[0m\u001b[1;33m(\u001b[0m\u001b[0mself\u001b[0m\u001b[1;33m)\u001b[0m\u001b[1;33m\u001b[0m\u001b[1;33m\u001b[0m\u001b[0m\n\u001b[0m\u001b[0;32m    261\u001b[0m \u001b[1;33m\u001b[0m\u001b[0m\n\u001b[0;32m    262\u001b[0m         \u001b[1;31m# Use bruteforce ellipsis when there are a lot of non-blank characters\u001b[0m\u001b[1;33m\u001b[0m\u001b[1;33m\u001b[0m\u001b[1;33m\u001b[0m\u001b[0m\n",
      "\u001b[1;32m~\\anaconda3\\lib\\pprint.py\u001b[0m in \u001b[0;36mpformat\u001b[1;34m(self, object)\u001b[0m\n\u001b[0;32m    151\u001b[0m     \u001b[1;32mdef\u001b[0m \u001b[0mpformat\u001b[0m\u001b[1;33m(\u001b[0m\u001b[0mself\u001b[0m\u001b[1;33m,\u001b[0m \u001b[0mobject\u001b[0m\u001b[1;33m)\u001b[0m\u001b[1;33m:\u001b[0m\u001b[1;33m\u001b[0m\u001b[1;33m\u001b[0m\u001b[0m\n\u001b[0;32m    152\u001b[0m         \u001b[0msio\u001b[0m \u001b[1;33m=\u001b[0m \u001b[0m_StringIO\u001b[0m\u001b[1;33m(\u001b[0m\u001b[1;33m)\u001b[0m\u001b[1;33m\u001b[0m\u001b[1;33m\u001b[0m\u001b[0m\n\u001b[1;32m--> 153\u001b[1;33m         \u001b[0mself\u001b[0m\u001b[1;33m.\u001b[0m\u001b[0m_format\u001b[0m\u001b[1;33m(\u001b[0m\u001b[0mobject\u001b[0m\u001b[1;33m,\u001b[0m \u001b[0msio\u001b[0m\u001b[1;33m,\u001b[0m \u001b[1;36m0\u001b[0m\u001b[1;33m,\u001b[0m \u001b[1;36m0\u001b[0m\u001b[1;33m,\u001b[0m \u001b[1;33m{\u001b[0m\u001b[1;33m}\u001b[0m\u001b[1;33m,\u001b[0m \u001b[1;36m0\u001b[0m\u001b[1;33m)\u001b[0m\u001b[1;33m\u001b[0m\u001b[1;33m\u001b[0m\u001b[0m\n\u001b[0m\u001b[0;32m    154\u001b[0m         \u001b[1;32mreturn\u001b[0m \u001b[0msio\u001b[0m\u001b[1;33m.\u001b[0m\u001b[0mgetvalue\u001b[0m\u001b[1;33m(\u001b[0m\u001b[1;33m)\u001b[0m\u001b[1;33m\u001b[0m\u001b[1;33m\u001b[0m\u001b[0m\n\u001b[0;32m    155\u001b[0m \u001b[1;33m\u001b[0m\u001b[0m\n",
      "\u001b[1;32m~\\anaconda3\\lib\\pprint.py\u001b[0m in \u001b[0;36m_format\u001b[1;34m(self, object, stream, indent, allowance, context, level)\u001b[0m\n\u001b[0;32m    168\u001b[0m             \u001b[0mself\u001b[0m\u001b[1;33m.\u001b[0m\u001b[0m_readable\u001b[0m \u001b[1;33m=\u001b[0m \u001b[1;32mFalse\u001b[0m\u001b[1;33m\u001b[0m\u001b[1;33m\u001b[0m\u001b[0m\n\u001b[0;32m    169\u001b[0m             \u001b[1;32mreturn\u001b[0m\u001b[1;33m\u001b[0m\u001b[1;33m\u001b[0m\u001b[0m\n\u001b[1;32m--> 170\u001b[1;33m         \u001b[0mrep\u001b[0m \u001b[1;33m=\u001b[0m \u001b[0mself\u001b[0m\u001b[1;33m.\u001b[0m\u001b[0m_repr\u001b[0m\u001b[1;33m(\u001b[0m\u001b[0mobject\u001b[0m\u001b[1;33m,\u001b[0m \u001b[0mcontext\u001b[0m\u001b[1;33m,\u001b[0m \u001b[0mlevel\u001b[0m\u001b[1;33m)\u001b[0m\u001b[1;33m\u001b[0m\u001b[1;33m\u001b[0m\u001b[0m\n\u001b[0m\u001b[0;32m    171\u001b[0m         \u001b[0mmax_width\u001b[0m \u001b[1;33m=\u001b[0m \u001b[0mself\u001b[0m\u001b[1;33m.\u001b[0m\u001b[0m_width\u001b[0m \u001b[1;33m-\u001b[0m \u001b[0mindent\u001b[0m \u001b[1;33m-\u001b[0m \u001b[0mallowance\u001b[0m\u001b[1;33m\u001b[0m\u001b[1;33m\u001b[0m\u001b[0m\n\u001b[0;32m    172\u001b[0m         \u001b[1;32mif\u001b[0m \u001b[0mlen\u001b[0m\u001b[1;33m(\u001b[0m\u001b[0mrep\u001b[0m\u001b[1;33m)\u001b[0m \u001b[1;33m>\u001b[0m \u001b[0mmax_width\u001b[0m\u001b[1;33m:\u001b[0m\u001b[1;33m\u001b[0m\u001b[1;33m\u001b[0m\u001b[0m\n",
      "\u001b[1;32m~\\anaconda3\\lib\\pprint.py\u001b[0m in \u001b[0;36m_repr\u001b[1;34m(self, object, context, level)\u001b[0m\n\u001b[0;32m    402\u001b[0m \u001b[1;33m\u001b[0m\u001b[0m\n\u001b[0;32m    403\u001b[0m     \u001b[1;32mdef\u001b[0m \u001b[0m_repr\u001b[0m\u001b[1;33m(\u001b[0m\u001b[0mself\u001b[0m\u001b[1;33m,\u001b[0m \u001b[0mobject\u001b[0m\u001b[1;33m,\u001b[0m \u001b[0mcontext\u001b[0m\u001b[1;33m,\u001b[0m \u001b[0mlevel\u001b[0m\u001b[1;33m)\u001b[0m\u001b[1;33m:\u001b[0m\u001b[1;33m\u001b[0m\u001b[1;33m\u001b[0m\u001b[0m\n\u001b[1;32m--> 404\u001b[1;33m         repr, readable, recursive = self.format(object, context.copy(),\n\u001b[0m\u001b[0;32m    405\u001b[0m                                                 self._depth, level)\n\u001b[0;32m    406\u001b[0m         \u001b[1;32mif\u001b[0m \u001b[1;32mnot\u001b[0m \u001b[0mreadable\u001b[0m\u001b[1;33m:\u001b[0m\u001b[1;33m\u001b[0m\u001b[1;33m\u001b[0m\u001b[0m\n",
      "\u001b[1;32m~\\anaconda3\\lib\\site-packages\\sklearn\\utils\\_pprint.py\u001b[0m in \u001b[0;36mformat\u001b[1;34m(self, object, context, maxlevels, level)\u001b[0m\n\u001b[0;32m    178\u001b[0m \u001b[1;33m\u001b[0m\u001b[0m\n\u001b[0;32m    179\u001b[0m     \u001b[1;32mdef\u001b[0m \u001b[0mformat\u001b[0m\u001b[1;33m(\u001b[0m\u001b[0mself\u001b[0m\u001b[1;33m,\u001b[0m \u001b[0mobject\u001b[0m\u001b[1;33m,\u001b[0m \u001b[0mcontext\u001b[0m\u001b[1;33m,\u001b[0m \u001b[0mmaxlevels\u001b[0m\u001b[1;33m,\u001b[0m \u001b[0mlevel\u001b[0m\u001b[1;33m)\u001b[0m\u001b[1;33m:\u001b[0m\u001b[1;33m\u001b[0m\u001b[1;33m\u001b[0m\u001b[0m\n\u001b[1;32m--> 180\u001b[1;33m         return _safe_repr(object, context, maxlevels, level,\n\u001b[0m\u001b[0;32m    181\u001b[0m                           changed_only=self._changed_only)\n\u001b[0;32m    182\u001b[0m \u001b[1;33m\u001b[0m\u001b[0m\n",
      "\u001b[1;32m~\\anaconda3\\lib\\site-packages\\sklearn\\utils\\_pprint.py\u001b[0m in \u001b[0;36m_safe_repr\u001b[1;34m(object, context, maxlevels, level, changed_only)\u001b[0m\n\u001b[0;32m    423\u001b[0m         \u001b[0mrecursive\u001b[0m \u001b[1;33m=\u001b[0m \u001b[1;32mFalse\u001b[0m\u001b[1;33m\u001b[0m\u001b[1;33m\u001b[0m\u001b[0m\n\u001b[0;32m    424\u001b[0m         \u001b[1;32mif\u001b[0m \u001b[0mchanged_only\u001b[0m\u001b[1;33m:\u001b[0m\u001b[1;33m\u001b[0m\u001b[1;33m\u001b[0m\u001b[0m\n\u001b[1;32m--> 425\u001b[1;33m             \u001b[0mparams\u001b[0m \u001b[1;33m=\u001b[0m \u001b[0m_changed_params\u001b[0m\u001b[1;33m(\u001b[0m\u001b[0mobject\u001b[0m\u001b[1;33m)\u001b[0m\u001b[1;33m\u001b[0m\u001b[1;33m\u001b[0m\u001b[0m\n\u001b[0m\u001b[0;32m    426\u001b[0m         \u001b[1;32melse\u001b[0m\u001b[1;33m:\u001b[0m\u001b[1;33m\u001b[0m\u001b[1;33m\u001b[0m\u001b[0m\n\u001b[0;32m    427\u001b[0m             \u001b[0mparams\u001b[0m \u001b[1;33m=\u001b[0m \u001b[0mobject\u001b[0m\u001b[1;33m.\u001b[0m\u001b[0mget_params\u001b[0m\u001b[1;33m(\u001b[0m\u001b[0mdeep\u001b[0m\u001b[1;33m=\u001b[0m\u001b[1;32mFalse\u001b[0m\u001b[1;33m)\u001b[0m\u001b[1;33m\u001b[0m\u001b[1;33m\u001b[0m\u001b[0m\n",
      "\u001b[1;32m~\\anaconda3\\lib\\site-packages\\sklearn\\utils\\_pprint.py\u001b[0m in \u001b[0;36m_changed_params\u001b[1;34m(estimator)\u001b[0m\n\u001b[0;32m    110\u001b[0m         \u001b[1;32mreturn\u001b[0m \u001b[1;32mFalse\u001b[0m\u001b[1;33m\u001b[0m\u001b[1;33m\u001b[0m\u001b[0m\n\u001b[0;32m    111\u001b[0m \u001b[1;33m\u001b[0m\u001b[0m\n\u001b[1;32m--> 112\u001b[1;33m     \u001b[1;32mreturn\u001b[0m \u001b[1;33m{\u001b[0m\u001b[0mk\u001b[0m\u001b[1;33m:\u001b[0m \u001b[0mv\u001b[0m \u001b[1;32mfor\u001b[0m \u001b[0mk\u001b[0m\u001b[1;33m,\u001b[0m \u001b[0mv\u001b[0m \u001b[1;32min\u001b[0m \u001b[0mparams\u001b[0m\u001b[1;33m.\u001b[0m\u001b[0mitems\u001b[0m\u001b[1;33m(\u001b[0m\u001b[1;33m)\u001b[0m \u001b[1;32mif\u001b[0m \u001b[0mhas_changed\u001b[0m\u001b[1;33m(\u001b[0m\u001b[0mk\u001b[0m\u001b[1;33m,\u001b[0m \u001b[0mv\u001b[0m\u001b[1;33m)\u001b[0m\u001b[1;33m}\u001b[0m\u001b[1;33m\u001b[0m\u001b[1;33m\u001b[0m\u001b[0m\n\u001b[0m\u001b[0;32m    113\u001b[0m \u001b[1;33m\u001b[0m\u001b[0m\n\u001b[0;32m    114\u001b[0m \u001b[1;33m\u001b[0m\u001b[0m\n",
      "\u001b[1;32m~\\anaconda3\\lib\\site-packages\\sklearn\\utils\\_pprint.py\u001b[0m in \u001b[0;36m<dictcomp>\u001b[1;34m(.0)\u001b[0m\n\u001b[0;32m    110\u001b[0m         \u001b[1;32mreturn\u001b[0m \u001b[1;32mFalse\u001b[0m\u001b[1;33m\u001b[0m\u001b[1;33m\u001b[0m\u001b[0m\n\u001b[0;32m    111\u001b[0m \u001b[1;33m\u001b[0m\u001b[0m\n\u001b[1;32m--> 112\u001b[1;33m     \u001b[1;32mreturn\u001b[0m \u001b[1;33m{\u001b[0m\u001b[0mk\u001b[0m\u001b[1;33m:\u001b[0m \u001b[0mv\u001b[0m \u001b[1;32mfor\u001b[0m \u001b[0mk\u001b[0m\u001b[1;33m,\u001b[0m \u001b[0mv\u001b[0m \u001b[1;32min\u001b[0m \u001b[0mparams\u001b[0m\u001b[1;33m.\u001b[0m\u001b[0mitems\u001b[0m\u001b[1;33m(\u001b[0m\u001b[1;33m)\u001b[0m \u001b[1;32mif\u001b[0m \u001b[0mhas_changed\u001b[0m\u001b[1;33m(\u001b[0m\u001b[0mk\u001b[0m\u001b[1;33m,\u001b[0m \u001b[0mv\u001b[0m\u001b[1;33m)\u001b[0m\u001b[1;33m}\u001b[0m\u001b[1;33m\u001b[0m\u001b[1;33m\u001b[0m\u001b[0m\n\u001b[0m\u001b[0;32m    113\u001b[0m \u001b[1;33m\u001b[0m\u001b[0m\n\u001b[0;32m    114\u001b[0m \u001b[1;33m\u001b[0m\u001b[0m\n",
      "\u001b[1;32m~\\anaconda3\\lib\\site-packages\\sklearn\\utils\\_pprint.py\u001b[0m in \u001b[0;36mhas_changed\u001b[1;34m(k, v)\u001b[0m\n\u001b[0;32m     98\u001b[0m         \u001b[1;32mif\u001b[0m \u001b[0mk\u001b[0m \u001b[1;32mnot\u001b[0m \u001b[1;32min\u001b[0m \u001b[0minit_params\u001b[0m\u001b[1;33m:\u001b[0m  \u001b[1;31m# happens if k is part of a **kwargs\u001b[0m\u001b[1;33m\u001b[0m\u001b[1;33m\u001b[0m\u001b[0m\n\u001b[0;32m     99\u001b[0m             \u001b[1;32mreturn\u001b[0m \u001b[1;32mTrue\u001b[0m\u001b[1;33m\u001b[0m\u001b[1;33m\u001b[0m\u001b[0m\n\u001b[1;32m--> 100\u001b[1;33m         \u001b[1;32mif\u001b[0m \u001b[0minit_params\u001b[0m\u001b[1;33m[\u001b[0m\u001b[0mk\u001b[0m\u001b[1;33m]\u001b[0m \u001b[1;33m==\u001b[0m \u001b[0minspect\u001b[0m\u001b[1;33m.\u001b[0m\u001b[0m_empty\u001b[0m\u001b[1;33m:\u001b[0m  \u001b[1;31m# k has no default value\u001b[0m\u001b[1;33m\u001b[0m\u001b[1;33m\u001b[0m\u001b[0m\n\u001b[0m\u001b[0;32m    101\u001b[0m             \u001b[1;32mreturn\u001b[0m \u001b[1;32mTrue\u001b[0m\u001b[1;33m\u001b[0m\u001b[1;33m\u001b[0m\u001b[0m\n\u001b[0;32m    102\u001b[0m         \u001b[1;31m# try to avoid calling repr on nested estimators\u001b[0m\u001b[1;33m\u001b[0m\u001b[1;33m\u001b[0m\u001b[1;33m\u001b[0m\u001b[0m\n",
      "\u001b[1;31mValueError\u001b[0m: The truth value of an array with more than one element is ambiguous. Use a.any() or a.all()"
     ]
    }
   ],
   "source": [
    "print(learning_curve(model, X_test, Y_test, cv=6, scoring='accuracy'))"
   ]
  },
  {
   "cell_type": "code",
   "execution_count": null,
   "id": "0aefe310",
   "metadata": {},
   "outputs": [],
   "source": []
  }
 ],
 "metadata": {
  "kernelspec": {
   "display_name": "Python 3",
   "language": "python",
   "name": "python3"
  },
  "language_info": {
   "codemirror_mode": {
    "name": "ipython",
    "version": 3
   },
   "file_extension": ".py",
   "mimetype": "text/x-python",
   "name": "python",
   "nbconvert_exporter": "python",
   "pygments_lexer": "ipython3",
   "version": "3.8.8"
  }
 },
 "nbformat": 4,
 "nbformat_minor": 5
}
